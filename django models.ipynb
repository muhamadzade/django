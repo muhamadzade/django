{
 "cells": [
  {
   "cell_type": "markdown",
   "id": "eb85e25c",
   "metadata": {},
   "source": [
    "## Models\n",
    "django \n",
    "\n",
    "#JavadMohammadzadeh"
   ]
  },
  {
   "cell_type": "code",
   "execution_count": 2,
   "id": "4ce5a166",
   "metadata": {},
   "outputs": [
    {
     "ename": "ImproperlyConfigured",
     "evalue": "Requested setting INSTALLED_APPS, but settings are not configured. You must either define the environment variable DJANGO_SETTINGS_MODULE or call settings.configure() before accessing settings.",
     "output_type": "error",
     "traceback": [
      "\u001b[1;31m---------------------------------------------------------------------------\u001b[0m",
      "\u001b[1;31mImproperlyConfigured\u001b[0m                      Traceback (most recent call last)",
      "\u001b[1;32mC:\\Users\\MR_MOH~1\\AppData\\Local\\Temp/ipykernel_9532/4096531459.py\u001b[0m in \u001b[0;36m<module>\u001b[1;34m\u001b[0m\n\u001b[0;32m      2\u001b[0m \u001b[1;31m# از کلاس models\u001b[0m\u001b[1;33m\u001b[0m\u001b[1;33m\u001b[0m\u001b[1;33m\u001b[0m\u001b[0m\n\u001b[0;32m      3\u001b[0m \u001b[1;31m# ارث بری میکند\u001b[0m\u001b[1;33m\u001b[0m\u001b[1;33m\u001b[0m\u001b[1;33m\u001b[0m\u001b[0m\n\u001b[1;32m----> 4\u001b[1;33m \u001b[1;32mclass\u001b[0m \u001b[0mPerson\u001b[0m\u001b[1;33m(\u001b[0m\u001b[0mmodels\u001b[0m\u001b[1;33m.\u001b[0m\u001b[0mModel\u001b[0m\u001b[1;33m)\u001b[0m\u001b[1;33m:\u001b[0m \u001b[1;31m# چارفیلد برای فیلد متنی استفاده میشود\u001b[0m\u001b[1;33m\u001b[0m\u001b[1;33m\u001b[0m\u001b[0m\n\u001b[0m\u001b[0;32m      5\u001b[0m     \u001b[0mfirst_name\u001b[0m \u001b[1;33m=\u001b[0m \u001b[0mmodels\u001b[0m\u001b[1;33m.\u001b[0m\u001b[0mCharField\u001b[0m\u001b[1;33m(\u001b[0m\u001b[0mmax_length\u001b[0m\u001b[1;33m=\u001b[0m\u001b[1;36m30\u001b[0m\u001b[1;33m)\u001b[0m\u001b[1;31m# مکس_لنت برای نشان دادن حداکثر طول کارکتر است\u001b[0m\u001b[1;33m\u001b[0m\u001b[1;33m\u001b[0m\u001b[0m\n\u001b[0;32m      6\u001b[0m     \u001b[0mlast_name\u001b[0m \u001b[1;33m=\u001b[0m \u001b[0mmodels\u001b[0m\u001b[1;33m.\u001b[0m\u001b[0mCharField\u001b[0m\u001b[1;33m(\u001b[0m\u001b[0mmax_length\u001b[0m\u001b[1;33m=\u001b[0m\u001b[1;36m30\u001b[0m\u001b[1;33m)\u001b[0m\u001b[1;33m\u001b[0m\u001b[1;33m\u001b[0m\u001b[0m\n",
      "\u001b[1;32mc:\\prg\\deep\\timeseries\\ts\\lib\\site-packages\\django\\db\\models\\base.py\u001b[0m in \u001b[0;36m__new__\u001b[1;34m(cls, name, bases, attrs, **kwargs)\u001b[0m\n\u001b[0;32m    106\u001b[0m \u001b[1;33m\u001b[0m\u001b[0m\n\u001b[0;32m    107\u001b[0m         \u001b[1;31m# Look for an application configuration to attach the model to.\u001b[0m\u001b[1;33m\u001b[0m\u001b[1;33m\u001b[0m\u001b[1;33m\u001b[0m\u001b[0m\n\u001b[1;32m--> 108\u001b[1;33m         \u001b[0mapp_config\u001b[0m \u001b[1;33m=\u001b[0m \u001b[0mapps\u001b[0m\u001b[1;33m.\u001b[0m\u001b[0mget_containing_app_config\u001b[0m\u001b[1;33m(\u001b[0m\u001b[0mmodule\u001b[0m\u001b[1;33m)\u001b[0m\u001b[1;33m\u001b[0m\u001b[1;33m\u001b[0m\u001b[0m\n\u001b[0m\u001b[0;32m    109\u001b[0m \u001b[1;33m\u001b[0m\u001b[0m\n\u001b[0;32m    110\u001b[0m         \u001b[1;32mif\u001b[0m \u001b[0mgetattr\u001b[0m\u001b[1;33m(\u001b[0m\u001b[0mmeta\u001b[0m\u001b[1;33m,\u001b[0m \u001b[1;34m'app_label'\u001b[0m\u001b[1;33m,\u001b[0m \u001b[1;32mNone\u001b[0m\u001b[1;33m)\u001b[0m \u001b[1;32mis\u001b[0m \u001b[1;32mNone\u001b[0m\u001b[1;33m:\u001b[0m\u001b[1;33m\u001b[0m\u001b[1;33m\u001b[0m\u001b[0m\n",
      "\u001b[1;32mc:\\prg\\deep\\timeseries\\ts\\lib\\site-packages\\django\\apps\\registry.py\u001b[0m in \u001b[0;36mget_containing_app_config\u001b[1;34m(self, object_name)\u001b[0m\n\u001b[0;32m    251\u001b[0m         \u001b[0mReturn\u001b[0m \u001b[1;32mNone\u001b[0m \u001b[1;32mif\u001b[0m \u001b[0mthe\u001b[0m \u001b[0mobject\u001b[0m \u001b[0misn\u001b[0m\u001b[0;31m'\u001b[0m\u001b[0mt\u001b[0m \u001b[1;32min\u001b[0m \u001b[0many\u001b[0m \u001b[0mregistered\u001b[0m \u001b[0mapp\u001b[0m \u001b[0mconfig\u001b[0m\u001b[1;33m.\u001b[0m\u001b[1;33m\u001b[0m\u001b[1;33m\u001b[0m\u001b[0m\n\u001b[0;32m    252\u001b[0m         \"\"\"\n\u001b[1;32m--> 253\u001b[1;33m         \u001b[0mself\u001b[0m\u001b[1;33m.\u001b[0m\u001b[0mcheck_apps_ready\u001b[0m\u001b[1;33m(\u001b[0m\u001b[1;33m)\u001b[0m\u001b[1;33m\u001b[0m\u001b[1;33m\u001b[0m\u001b[0m\n\u001b[0m\u001b[0;32m    254\u001b[0m         \u001b[0mcandidates\u001b[0m \u001b[1;33m=\u001b[0m \u001b[1;33m[\u001b[0m\u001b[1;33m]\u001b[0m\u001b[1;33m\u001b[0m\u001b[1;33m\u001b[0m\u001b[0m\n\u001b[0;32m    255\u001b[0m         \u001b[1;32mfor\u001b[0m \u001b[0mapp_config\u001b[0m \u001b[1;32min\u001b[0m \u001b[0mself\u001b[0m\u001b[1;33m.\u001b[0m\u001b[0mapp_configs\u001b[0m\u001b[1;33m.\u001b[0m\u001b[0mvalues\u001b[0m\u001b[1;33m(\u001b[0m\u001b[1;33m)\u001b[0m\u001b[1;33m:\u001b[0m\u001b[1;33m\u001b[0m\u001b[1;33m\u001b[0m\u001b[0m\n",
      "\u001b[1;32mc:\\prg\\deep\\timeseries\\ts\\lib\\site-packages\\django\\apps\\registry.py\u001b[0m in \u001b[0;36mcheck_apps_ready\u001b[1;34m(self)\u001b[0m\n\u001b[0;32m    133\u001b[0m             \u001b[1;31m# INSTALLED_APPS raises a more helpful ImproperlyConfigured\u001b[0m\u001b[1;33m\u001b[0m\u001b[1;33m\u001b[0m\u001b[1;33m\u001b[0m\u001b[0m\n\u001b[0;32m    134\u001b[0m             \u001b[1;31m# exception.\u001b[0m\u001b[1;33m\u001b[0m\u001b[1;33m\u001b[0m\u001b[1;33m\u001b[0m\u001b[0m\n\u001b[1;32m--> 135\u001b[1;33m             \u001b[0msettings\u001b[0m\u001b[1;33m.\u001b[0m\u001b[0mINSTALLED_APPS\u001b[0m\u001b[1;33m\u001b[0m\u001b[1;33m\u001b[0m\u001b[0m\n\u001b[0m\u001b[0;32m    136\u001b[0m             \u001b[1;32mraise\u001b[0m \u001b[0mAppRegistryNotReady\u001b[0m\u001b[1;33m(\u001b[0m\u001b[1;34m\"Apps aren't loaded yet.\"\u001b[0m\u001b[1;33m)\u001b[0m\u001b[1;33m\u001b[0m\u001b[1;33m\u001b[0m\u001b[0m\n\u001b[0;32m    137\u001b[0m \u001b[1;33m\u001b[0m\u001b[0m\n",
      "\u001b[1;32mc:\\prg\\deep\\timeseries\\ts\\lib\\site-packages\\django\\conf\\__init__.py\u001b[0m in \u001b[0;36m__getattr__\u001b[1;34m(self, name)\u001b[0m\n\u001b[0;32m     80\u001b[0m         \u001b[1;34m\"\"\"Return the value of a setting and cache it in self.__dict__.\"\"\"\u001b[0m\u001b[1;33m\u001b[0m\u001b[1;33m\u001b[0m\u001b[0m\n\u001b[0;32m     81\u001b[0m         \u001b[1;32mif\u001b[0m \u001b[0mself\u001b[0m\u001b[1;33m.\u001b[0m\u001b[0m_wrapped\u001b[0m \u001b[1;32mis\u001b[0m \u001b[0mempty\u001b[0m\u001b[1;33m:\u001b[0m\u001b[1;33m\u001b[0m\u001b[1;33m\u001b[0m\u001b[0m\n\u001b[1;32m---> 82\u001b[1;33m             \u001b[0mself\u001b[0m\u001b[1;33m.\u001b[0m\u001b[0m_setup\u001b[0m\u001b[1;33m(\u001b[0m\u001b[0mname\u001b[0m\u001b[1;33m)\u001b[0m\u001b[1;33m\u001b[0m\u001b[1;33m\u001b[0m\u001b[0m\n\u001b[0m\u001b[0;32m     83\u001b[0m         \u001b[0mval\u001b[0m \u001b[1;33m=\u001b[0m \u001b[0mgetattr\u001b[0m\u001b[1;33m(\u001b[0m\u001b[0mself\u001b[0m\u001b[1;33m.\u001b[0m\u001b[0m_wrapped\u001b[0m\u001b[1;33m,\u001b[0m \u001b[0mname\u001b[0m\u001b[1;33m)\u001b[0m\u001b[1;33m\u001b[0m\u001b[1;33m\u001b[0m\u001b[0m\n\u001b[0;32m     84\u001b[0m \u001b[1;33m\u001b[0m\u001b[0m\n",
      "\u001b[1;32mc:\\prg\\deep\\timeseries\\ts\\lib\\site-packages\\django\\conf\\__init__.py\u001b[0m in \u001b[0;36m_setup\u001b[1;34m(self, name)\u001b[0m\n\u001b[0;32m     61\u001b[0m         \u001b[1;32mif\u001b[0m \u001b[1;32mnot\u001b[0m \u001b[0msettings_module\u001b[0m\u001b[1;33m:\u001b[0m\u001b[1;33m\u001b[0m\u001b[1;33m\u001b[0m\u001b[0m\n\u001b[0;32m     62\u001b[0m             \u001b[0mdesc\u001b[0m \u001b[1;33m=\u001b[0m \u001b[1;33m(\u001b[0m\u001b[1;34m\"setting %s\"\u001b[0m \u001b[1;33m%\u001b[0m \u001b[0mname\u001b[0m\u001b[1;33m)\u001b[0m \u001b[1;32mif\u001b[0m \u001b[0mname\u001b[0m \u001b[1;32melse\u001b[0m \u001b[1;34m\"settings\"\u001b[0m\u001b[1;33m\u001b[0m\u001b[1;33m\u001b[0m\u001b[0m\n\u001b[1;32m---> 63\u001b[1;33m             raise ImproperlyConfigured(\n\u001b[0m\u001b[0;32m     64\u001b[0m                 \u001b[1;34m\"Requested %s, but settings are not configured. \"\u001b[0m\u001b[1;33m\u001b[0m\u001b[1;33m\u001b[0m\u001b[0m\n\u001b[0;32m     65\u001b[0m                 \u001b[1;34m\"You must either define the environment variable %s \"\u001b[0m\u001b[1;33m\u001b[0m\u001b[1;33m\u001b[0m\u001b[0m\n",
      "\u001b[1;31mImproperlyConfigured\u001b[0m: Requested setting INSTALLED_APPS, but settings are not configured. You must either define the environment variable DJANGO_SETTINGS_MODULE or call settings.configure() before accessing settings."
     ]
    }
   ],
   "source": [
    "from django.db import models\n",
    "# از کلاس models \n",
    "# ارث بری میکند\n",
    "class Person(models.Model): # چارفیلد برای فیلد متنی استفاده میشود\n",
    "    first_name = models.CharField(max_length=30)# مکس_لنت برای نشان دادن حداکثر طول کارکتر است\n",
    "    last_name = models.CharField(max_length=30)"
   ]
  },
  {
   "cell_type": "code",
   "execution_count": null,
   "id": "f133e614",
   "metadata": {},
   "outputs": [],
   "source": [
    "# DDL\n",
    "#چون در بالا کلید اصلی تعریف نشده بود خود کلید آی دی را کلید اصلی قرار داد\n",
    "# اسمی که در نظر گرفته:\n",
    "# esmeapp_esmekelas\n",
    "CREATE TABLE myapp_person (\n",
    "    \"id\" serial NOT NULL PRIMARY KEY,\n",
    "    \"first_name\" varchar(30) NOT NULL,\n",
    "    \"last_name\" varchar(30) NOT NULL\n",
    ");"
   ]
  },
  {
   "cell_type": "code",
   "execution_count": null,
   "id": "b602c187",
   "metadata": {},
   "outputs": [],
   "source": [
    "# برای اینکه تغییرات در محیط برای ما حفظ باشد و کامپایل کند در ستینگ مای پروجکت این دستور اجرا میشود\n",
    "INSTALLED_APPS = [\n",
    "    #...\n",
    "    'myapp',\n",
    "    #...\n",
    "]\n",
    "#makemigration \n",
    "# به اینستال اپ نگاه میکند"
   ]
  },
  {
   "cell_type": "markdown",
   "id": "9321f500",
   "metadata": {},
   "source": [
    "# Fields"
   ]
  },
  {
   "cell_type": "code",
   "execution_count": null,
   "id": "a0d32043",
   "metadata": {},
   "outputs": [],
   "source": [
    "from django.db import models\n",
    "\n",
    "#فیلد صفتهایی که برای کلاس و شی باید ذخیره شوند\n",
    "class Musician(models.Model):\n",
    "    first_name = models.CharField(max_length=100)\n",
    "    last_name = models.CharField(max_length=100)\n",
    "    instrument = models.CharField(max_length=200)\n",
    "\n",
    "    # هر موزیسین میتواند چندین آلبوم ارایه دهد\n",
    "#اسم آلبوم و تاریح انتشار\n",
    "# اینجا ارتباط یک به چند است\n",
    "# در ارتباط یک به چند در سمت کلاس چند یک کلید خارجی قرار میدهیم\n",
    "#کلید خارجی با اسم خود کلاس یکی است، \n",
    "# پس بهتر است در اینجا اسم فیلد آرتیست به موزیسین تغییر پیدا کند\n",
    "class Album(models.Model):\n",
    "    artist = models.ForeignKey(Musician, on_delete=models.CASCADE)\n",
    "    # در صورت حذف یک خواننده از کلاس موزیسین آلبوم های آن نیز به صورت آبشاری حذف میشوند\n",
    "    name = models.CharField(max_length=100)\n",
    "    release_date = models.DateField()\n",
    "    #برای نشان دادن تاریخ از دیتفیلد استفاده شده است \n",
    "    num_stars = models.IntegerField()\n",
    "    # نام استار هم از نوع عددی هست\n",
    "    # بعدا اگر از فرم برای ورود اطلاعات استفاده کنیم برای ریلزدیت خودش اتومات از تگ تارخ استفاده میکند"
   ]
  },
  {
   "cell_type": "markdown",
   "id": "0548291f",
   "metadata": {},
   "source": [
    "# Field options"
   ]
  },
  {
   "cell_type": "code",
   "execution_count": null,
   "id": "14bf6307",
   "metadata": {},
   "outputs": [],
   "source": [
    "#max_length=100\n",
    "\n",
    "from django.db import models\n",
    "# شرت سایز چون ثابت است با حروف درشت نوشته است\n",
    "# در چویز از تاپل به فرم زیر استفاده میشود\n",
    "# در فرم وقتی بخواهیم ورودی بگیریم فقط اجازه میدهد سه مقدار را وارد کنیم\n",
    "# مقادیر اسمال مدیم و لارج دیده میشود\n",
    "#ولی مقادیر اس ام و ال ذخیره میشود\n",
    "class Person(models.Model):\n",
    "    SHIRT_SIZES = (\n",
    "        ('S', 'Small'),\n",
    "        ('M', 'Medium'),\n",
    "        ('L', 'Large'),\n",
    "    )\n",
    "    JENSIAT=(\n",
    "    ('M','Male'),\n",
    "    ('F','Female'),\n",
    "    )\n",
    "    name = models.CharField(max_length=60)\n",
    "    gender=models.CharField(max_length=1,choices=JENSIAT)\n",
    "    shirt_size = models.CharField(max_length=1, choices=SHIRT_SIZES)"
   ]
  },
  {
   "cell_type": "code",
   "execution_count": null,
   "id": "0a87053b",
   "metadata": {},
   "outputs": [],
   "source": [
    ">>> p = Person(name=\"Fred Flintstone\", shirt_size=\"L\",gender=\"M\")\n",
    ">>> p.save()\n",
    ">>> p.shirt_size\n",
    "'L'\n",
    ">>> p.get_shirt_size_display() # برای نمایش از این تابع میتوان استفاده کرد که مقدار تاپل را نشان میدهد\n",
    "'Large'\n",
    ">>> p.get_gender()\n",
    "'Male'"
   ]
  },
  {
   "cell_type": "code",
   "execution_count": null,
   "id": "2e2e761b",
   "metadata": {},
   "outputs": [],
   "source": [
    "from django.db import models\n",
    "# یک طریقه دیگر برای تعریف چویز از این روش است\n",
    "class Runner(models.Model):\n",
    "    MedalType = models.TextChoices('MedalType', 'GOLD SILVER BRONZE')\n",
    "    name = models.CharField(max_length=60)\n",
    "    # با توجه به اینکه فقط 3 نفر مدال میگیرند پس برای بقیه بلنک ترو شده است\n",
    "    medal = models.CharField(blank=True, choices=MedalType.choices, max_length=10)"
   ]
  },
  {
   "cell_type": "code",
   "execution_count": null,
   "id": "13f79015",
   "metadata": {},
   "outputs": [],
   "source": [
    "from django.db import models\n",
    "# از پریمری کی برای کلید اصلی استفاده میشود و در اینجا دیگر احتیاجی به آی دی نیست\n",
    "\n",
    "class Fruit(models.Model):\n",
    "    name = models.CharField(max_length=100, primary_key=True)\n",
    " #   def __str__(self):\n",
    " #       return \"moveh:\"+name"
   ]
  },
  {
   "cell_type": "code",
   "execution_count": null,
   "id": "c4e62f3a",
   "metadata": {},
   "outputs": [],
   "source": [
    "# miveh=Fruit(name='sib')\n",
    "#طریقه دیگر از این روش است\n",
    ">>> fruit = Fruit.objects.create(name='Apple')\n",
    "#مثلا در اینجا اسم را میتوان به روش زیر عوض کرد\n",
    ">>> fruit.name = 'Pear'\n",
    ">>> fruit.save()\n",
    "# با استفاده از ولیو لیست مقادیر فیلدهای مورد نیاز استخراج میشود\n",
    ">>> Fruit.objects.values_list('name', flat=True) # مقدار فیلد نیم از اشیا خواسته میشود\n",
    "\n",
    "<QuerySet ['Apple', 'Pear']>\n",
    ">>>Fruit.objects.all()\n",
    "# در اینجا تابع استی آر فراخوانی میشود\n",
    "<QuerySet ['miveh:Apple', 'miveh:Pear']>\n",
    "# اگر مقدار استی آر نوشته نشود به صورت عددی فقط تعداد رکوردها را نشان میدهد\n",
    "<QuerySet 2>"
   ]
  },
  {
   "cell_type": "code",
   "execution_count": null,
   "id": "77412eea",
   "metadata": {},
   "outputs": [],
   "source": [
    "first_name = models.CharField(\"person's first name\", max_length=30)\n",
    "# در اینجا ستون اسم فرست نیم  در جدول\n",
    "#person's first name\n",
    "# قرار میدهد"
   ]
  }
 ],
 "metadata": {
  "kernelspec": {
   "display_name": "Python 3 (ipykernel)",
   "language": "python",
   "name": "python3"
  },
  "language_info": {
   "codemirror_mode": {
    "name": "ipython",
    "version": 3
   },
   "file_extension": ".py",
   "mimetype": "text/x-python",
   "name": "python",
   "nbconvert_exporter": "python",
   "pygments_lexer": "ipython3",
   "version": "3.9.6"
  }
 },
 "nbformat": 4,
 "nbformat_minor": 5
}
